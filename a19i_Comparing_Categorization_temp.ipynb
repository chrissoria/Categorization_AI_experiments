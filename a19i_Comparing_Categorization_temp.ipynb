{
 "cells": [
  {
   "cell_type": "code",
   "execution_count": 1,
   "id": "350e7a6e",
   "metadata": {},
   "outputs": [],
   "source": [
    "import openai\n",
    "import pandas as pd\n",
    "import numpy as np\n",
    "import json\n",
    "import os\n",
    "from scipy import stats"
   ]
  },
  {
   "cell_type": "code",
   "execution_count": 2,
   "id": "59c1630b",
   "metadata": {},
   "outputs": [
    {
     "name": "stdout",
     "output_type": "stream",
     "text": [
      "/Users/chrissoria/Documents/Research/Categorization_AI_experiments\n"
     ]
    }
   ],
   "source": [
    "os.chdir('/Users/chrissoria/Documents/Research/Categorization_AI_experiments')\n",
    "current_directory = os.getcwd()\n",
    "print(current_directory)"
   ]
  },
  {
   "cell_type": "code",
   "execution_count": 3,
   "id": "c256600b",
   "metadata": {},
   "outputs": [
    {
     "data": {
      "text/html": [
       "<div>\n",
       "<style scoped>\n",
       "    .dataframe tbody tr th:only-of-type {\n",
       "        vertical-align: middle;\n",
       "    }\n",
       "\n",
       "    .dataframe tbody tr th {\n",
       "        vertical-align: top;\n",
       "    }\n",
       "\n",
       "    .dataframe thead th {\n",
       "        text-align: right;\n",
       "    }\n",
       "</style>\n",
       "<table border=\"1\" class=\"dataframe\">\n",
       "  <thead>\n",
       "    <tr style=\"text-align: right;\">\n",
       "      <th></th>\n",
       "      <th>Partner or spouse</th>\n",
       "      <th>Relationship end</th>\n",
       "      <th>Own job/school/career</th>\n",
       "      <th>Partner’s job/school/career</th>\n",
       "      <th>Financial</th>\n",
       "      <th>Housing, concretely</th>\n",
       "    </tr>\n",
       "  </thead>\n",
       "  <tbody>\n",
       "    <tr>\n",
       "      <th>0</th>\n",
       "      <td>0.0</td>\n",
       "      <td>0</td>\n",
       "      <td>0</td>\n",
       "      <td>0</td>\n",
       "      <td>0</td>\n",
       "      <td>0</td>\n",
       "    </tr>\n",
       "    <tr>\n",
       "      <th>1</th>\n",
       "      <td>1.0</td>\n",
       "      <td>0</td>\n",
       "      <td>0</td>\n",
       "      <td>0</td>\n",
       "      <td>0</td>\n",
       "      <td>0</td>\n",
       "    </tr>\n",
       "    <tr>\n",
       "      <th>2</th>\n",
       "      <td>1.0</td>\n",
       "      <td>0</td>\n",
       "      <td>0</td>\n",
       "      <td>0</td>\n",
       "      <td>0</td>\n",
       "      <td>0</td>\n",
       "    </tr>\n",
       "    <tr>\n",
       "      <th>3</th>\n",
       "      <td>0.0</td>\n",
       "      <td>0</td>\n",
       "      <td>1</td>\n",
       "      <td>0</td>\n",
       "      <td>0</td>\n",
       "      <td>0</td>\n",
       "    </tr>\n",
       "    <tr>\n",
       "      <th>4</th>\n",
       "      <td>0.0</td>\n",
       "      <td>0</td>\n",
       "      <td>0</td>\n",
       "      <td>0</td>\n",
       "      <td>0</td>\n",
       "      <td>0</td>\n",
       "    </tr>\n",
       "    <tr>\n",
       "      <th>...</th>\n",
       "      <td>...</td>\n",
       "      <td>...</td>\n",
       "      <td>...</td>\n",
       "      <td>...</td>\n",
       "      <td>...</td>\n",
       "      <td>...</td>\n",
       "    </tr>\n",
       "    <tr>\n",
       "      <th>195</th>\n",
       "      <td>0.0</td>\n",
       "      <td>0</td>\n",
       "      <td>0</td>\n",
       "      <td>0</td>\n",
       "      <td>0</td>\n",
       "      <td>0</td>\n",
       "    </tr>\n",
       "    <tr>\n",
       "      <th>196</th>\n",
       "      <td>0.0</td>\n",
       "      <td>0</td>\n",
       "      <td>0</td>\n",
       "      <td>0</td>\n",
       "      <td>0</td>\n",
       "      <td>0</td>\n",
       "    </tr>\n",
       "    <tr>\n",
       "      <th>197</th>\n",
       "      <td>0.0</td>\n",
       "      <td>0</td>\n",
       "      <td>0</td>\n",
       "      <td>0</td>\n",
       "      <td>0</td>\n",
       "      <td>0</td>\n",
       "    </tr>\n",
       "    <tr>\n",
       "      <th>198</th>\n",
       "      <td>0.0</td>\n",
       "      <td>0</td>\n",
       "      <td>1</td>\n",
       "      <td>0</td>\n",
       "      <td>0</td>\n",
       "      <td>1</td>\n",
       "    </tr>\n",
       "    <tr>\n",
       "      <th>199</th>\n",
       "      <td>0.0</td>\n",
       "      <td>0</td>\n",
       "      <td>0</td>\n",
       "      <td>0</td>\n",
       "      <td>0</td>\n",
       "      <td>1</td>\n",
       "    </tr>\n",
       "  </tbody>\n",
       "</table>\n",
       "<p>200 rows × 6 columns</p>\n",
       "</div>"
      ],
      "text/plain": [
       "     Partner or spouse  Relationship end  Own job/school/career  \\\n",
       "0                  0.0                 0                      0   \n",
       "1                  1.0                 0                      0   \n",
       "2                  1.0                 0                      0   \n",
       "3                  0.0                 0                      1   \n",
       "4                  0.0                 0                      0   \n",
       "..                 ...               ...                    ...   \n",
       "195                0.0                 0                      0   \n",
       "196                0.0                 0                      0   \n",
       "197                0.0                 0                      0   \n",
       "198                0.0                 0                      1   \n",
       "199                0.0                 0                      0   \n",
       "\n",
       "     Partner’s job/school/career  Financial  Housing, concretely  \n",
       "0                              0          0                    0  \n",
       "1                              0          0                    0  \n",
       "2                              0          0                    0  \n",
       "3                              0          0                    0  \n",
       "4                              0          0                    0  \n",
       "..                           ...        ...                  ...  \n",
       "195                            0          0                    0  \n",
       "196                            0          0                    0  \n",
       "197                            0          0                    0  \n",
       "198                            0          0                    1  \n",
       "199                            0          0                    1  \n",
       "\n",
       "[200 rows x 6 columns]"
      ]
     },
     "execution_count": 3,
     "metadata": {},
     "output_type": "execute_result"
    }
   ],
   "source": [
    "Main = pd.read_excel(\"../UCNets_Classification/Hand_Coding_Surveys/a19i/a19i_Master.xlsx\", engine='openpyxl', sheet_name=\"Final\").drop([\"Response\",\"prim_key\"], axis=1)\n",
    "Main = Main.iloc[:200, :6]\n",
    "temp_00 = pd.read_csv('data/a19i_00_creative_6_cats.csv').drop(['survey_response','chain1','chain2','json'], axis=1)\n",
    "temp_25 = pd.read_csv('data/a19i_25_creative_6_cats.csv').drop(['survey_response','chain1','chain2','json'], axis=1)\n",
    "temp_50 = pd.read_csv('data/a19i_50_creative_6_cats.csv').drop(['survey_response','chain1','chain2','json'], axis=1)\n",
    "temp_75 = pd.read_csv('data/a19i_75_creative_6_cats.csv').drop(['survey_response','chain1','chain2','json'], axis=1)\n",
    "\n",
    "Main"
   ]
  },
  {
   "cell_type": "code",
   "execution_count": 4,
   "id": "2b959770",
   "metadata": {},
   "outputs": [
    {
     "name": "stdout",
     "output_type": "stream",
     "text": [
      "The dataframe Main has 200 rows.\n",
      "The dataframe temp_25 has 200 rows.\n",
      "The dataframe temp_25 has 200 rows.\n",
      "The dataframe temp_50 has 200 rows.\n",
      "The dataframe temp_75 has 200 rows.\n"
     ]
    }
   ],
   "source": [
    "print(f\"The dataframe Main has {len(Main)} rows.\")\n",
    "\n",
    "print(f\"The dataframe temp_25 has {len(temp_00)} rows.\")\n",
    "\n",
    "print(f\"The dataframe temp_25 has {len(temp_25)} rows.\")\n",
    "\n",
    "print(f\"The dataframe temp_50 has {len(temp_50)} rows.\")\n",
    "\n",
    "print(f\"The dataframe temp_75 has {len(temp_75)} rows.\")\n",
    "\n",
    "Main.fillna(0, inplace=True)\n",
    "temp_00.fillna(0, inplace=True)\n",
    "temp_25.fillna(0, inplace=True)\n",
    "temp_50.fillna(0, inplace=True)\n",
    "temp_75.fillna(0, inplace=True)"
   ]
  },
  {
   "cell_type": "code",
   "execution_count": 5,
   "id": "bf2e0ef8",
   "metadata": {},
   "outputs": [],
   "source": [
    "Main = Main.astype(int, errors='ignore')\n",
    "temp_00 = temp_00.astype(int, errors='ignore')\n",
    "temp_25 = temp_25.astype(int, errors='ignore')\n",
    "temp_50 = temp_50.astype(int, errors='ignore')\n",
    "temp_75 = temp_75.astype(int, errors='ignore')"
   ]
  },
  {
   "cell_type": "code",
   "execution_count": 6,
   "id": "c4ff47ee",
   "metadata": {},
   "outputs": [
    {
     "data": {
      "text/html": [
       "<div>\n",
       "<style scoped>\n",
       "    .dataframe tbody tr th:only-of-type {\n",
       "        vertical-align: middle;\n",
       "    }\n",
       "\n",
       "    .dataframe tbody tr th {\n",
       "        vertical-align: top;\n",
       "    }\n",
       "\n",
       "    .dataframe thead th {\n",
       "        text-align: right;\n",
       "    }\n",
       "</style>\n",
       "<table border=\"1\" class=\"dataframe\">\n",
       "  <thead>\n",
       "    <tr style=\"text-align: right;\">\n",
       "      <th></th>\n",
       "      <th>Partner or spouse</th>\n",
       "      <th>Relationship end</th>\n",
       "      <th>Own job/school/career</th>\n",
       "      <th>Partner’s job/school/career</th>\n",
       "      <th>Financial</th>\n",
       "      <th>Housing, concretely</th>\n",
       "    </tr>\n",
       "  </thead>\n",
       "  <tbody>\n",
       "    <tr>\n",
       "      <th>0</th>\n",
       "      <td>0</td>\n",
       "      <td>0</td>\n",
       "      <td>0</td>\n",
       "      <td>0</td>\n",
       "      <td>0</td>\n",
       "      <td>0</td>\n",
       "    </tr>\n",
       "    <tr>\n",
       "      <th>1</th>\n",
       "      <td>1</td>\n",
       "      <td>0</td>\n",
       "      <td>0</td>\n",
       "      <td>0</td>\n",
       "      <td>0</td>\n",
       "      <td>0</td>\n",
       "    </tr>\n",
       "    <tr>\n",
       "      <th>2</th>\n",
       "      <td>1</td>\n",
       "      <td>0</td>\n",
       "      <td>0</td>\n",
       "      <td>0</td>\n",
       "      <td>0</td>\n",
       "      <td>0</td>\n",
       "    </tr>\n",
       "    <tr>\n",
       "      <th>3</th>\n",
       "      <td>0</td>\n",
       "      <td>0</td>\n",
       "      <td>1</td>\n",
       "      <td>0</td>\n",
       "      <td>0</td>\n",
       "      <td>0</td>\n",
       "    </tr>\n",
       "    <tr>\n",
       "      <th>4</th>\n",
       "      <td>0</td>\n",
       "      <td>0</td>\n",
       "      <td>0</td>\n",
       "      <td>0</td>\n",
       "      <td>0</td>\n",
       "      <td>0</td>\n",
       "    </tr>\n",
       "  </tbody>\n",
       "</table>\n",
       "</div>"
      ],
      "text/plain": [
       "   Partner or spouse  Relationship end  Own job/school/career  \\\n",
       "0                  0                 0                      0   \n",
       "1                  1                 0                      0   \n",
       "2                  1                 0                      0   \n",
       "3                  0                 0                      1   \n",
       "4                  0                 0                      0   \n",
       "\n",
       "   Partner’s job/school/career  Financial  Housing, concretely  \n",
       "0                            0          0                    0  \n",
       "1                            0          0                    0  \n",
       "2                            0          0                    0  \n",
       "3                            0          0                    0  \n",
       "4                            0          0                    0  "
      ]
     },
     "execution_count": 6,
     "metadata": {},
     "output_type": "execute_result"
    }
   ],
   "source": [
    "Main.head()"
   ]
  },
  {
   "cell_type": "code",
   "execution_count": 7,
   "id": "7089bde2",
   "metadata": {},
   "outputs": [
    {
     "name": "stdout",
     "output_type": "stream",
     "text": [
      "                             Correlation_Main_00  P_value_Main_00\n",
      "Partner or spouse                       0.736535         0.000147\n",
      "Relationship end                        0.716860         0.007829\n",
      "Own job/school/career                   0.870548         0.019251\n",
      "Partner’s job/school/career             0.846114         0.083261\n",
      "Financial                               0.759124         0.000500\n",
      "Housing, concretely                     0.642069         0.001547\n"
     ]
    }
   ],
   "source": [
    "correlations = []\n",
    "p_values = []\n",
    "\n",
    "for i in range(6):  \n",
    "    main_col = Main.columns[i]\n",
    "    temp_00_col = temp_00.columns[i]\n",
    "\n",
    "    correlation, _ = stats.pointbiserialr(Main[main_col], temp_00[temp_00_col])\n",
    "    _, p_value = stats.ttest_rel(Main[main_col], temp_00[temp_00_col])\n",
    "\n",
    "    correlations.append(correlation)\n",
    "    p_values.append(p_value)\n",
    "\n",
    "correlation_df1 = pd.DataFrame({'Correlation_Main_00': correlations, 'P_value_Main_00': p_values}, index=Main.columns[:6])\n",
    "\n",
    "print(correlation_df1)"
   ]
  },
  {
   "cell_type": "code",
   "execution_count": 8,
   "id": "97e8f63f",
   "metadata": {},
   "outputs": [
    {
     "name": "stdout",
     "output_type": "stream",
     "text": [
      "                             Correlation_Main_25  P_value_Main_25\n",
      "Partner or spouse                       0.711458         0.000047\n",
      "Relationship end                        0.692219         0.004419\n",
      "Own job/school/career                   0.896270         0.058596\n",
      "Partner’s job/school/career             0.846114         0.083261\n",
      "Financial                               0.776874         0.000130\n",
      "Housing, concretely                     0.693334         0.000032\n"
     ]
    }
   ],
   "source": [
    "correlations = []\n",
    "p_values = []\n",
    "\n",
    "for i in range(6):  \n",
    "    main_col = Main.columns[i]\n",
    "    temp_25_col = temp_25.columns[i]\n",
    "\n",
    "    correlation, _ = stats.pointbiserialr(Main[main_col], temp_25[temp_25_col])\n",
    "    _, p_value = stats.ttest_rel(Main[main_col], temp_25[temp_25_col])\n",
    "\n",
    "    correlations.append(correlation)\n",
    "    p_values.append(p_value)\n",
    "\n",
    "correlation_df2 = pd.DataFrame({'Correlation_Main_25': correlations, 'P_value_Main_25': p_values}, index=Main.columns[:6])\n",
    "\n",
    "print(correlation_df2)"
   ]
  },
  {
   "cell_type": "code",
   "execution_count": 9,
   "id": "28b392fd",
   "metadata": {},
   "outputs": [
    {
     "name": "stdout",
     "output_type": "stream",
     "text": [
      "                             Correlation_Main_50  P_value_Main_50\n",
      "Partner or spouse                       0.793492         0.001418\n",
      "Relationship end                        0.669723         0.002501\n",
      "Own job/school/career                   0.896270         0.058596\n",
      "Partner’s job/school/career             0.807947         0.045224\n",
      "Financial                               0.761505         0.004419\n",
      "Housing, concretely                     0.721336         0.001589\n"
     ]
    }
   ],
   "source": [
    "correlations = []\n",
    "p_values = []\n",
    "\n",
    "for i in range(6):  \n",
    "    main_col = Main.columns[i]\n",
    "    temp_50_col = temp_50.columns[i]\n",
    "\n",
    "    correlation, _ = stats.pointbiserialr(Main[main_col], temp_50[temp_50_col])\n",
    "    _, p_value = stats.ttest_rel(Main[main_col], temp_50[temp_50_col])\n",
    "\n",
    "    correlations.append(correlation)\n",
    "    p_values.append(p_value)\n",
    "\n",
    "correlation_df3 = pd.DataFrame({'Correlation_Main_50': correlations, 'P_value_Main_50': p_values}, index=Main.columns[:6])\n",
    "\n",
    "print(correlation_df3)"
   ]
  },
  {
   "cell_type": "code",
   "execution_count": 10,
   "id": "2f019ca6",
   "metadata": {},
   "outputs": [
    {
     "name": "stdout",
     "output_type": "stream",
     "text": [
      "                             Correlation_Main_75  P_value_Main_75\n",
      "Partner or spouse                       0.763763         0.000457\n",
      "Relationship end                        0.744024         0.013936\n",
      "Own job/school/career                   0.896270         0.058596\n",
      "Partner’s job/school/career             0.889757         0.157819\n",
      "Financial                               0.694597         0.000115\n",
      "Housing, concretely                     0.682443         0.000196\n"
     ]
    }
   ],
   "source": [
    "correlations = []\n",
    "p_values = []\n",
    "\n",
    "for i in range(6):  \n",
    "    main_col = Main.columns[i]\n",
    "    temp_75_col = temp_75.columns[i]\n",
    "\n",
    "    correlation, _ = stats.pointbiserialr(Main[main_col], temp_75[temp_75_col])\n",
    "    _, p_value = stats.ttest_rel(Main[main_col], temp_75[temp_75_col])\n",
    "\n",
    "    correlations.append(correlation)\n",
    "    p_values.append(p_value)\n",
    "\n",
    "correlation_df4 = pd.DataFrame({'Correlation_Main_75': correlations, 'P_value_Main_75': p_values}, index=Main.columns[:6])\n",
    "\n",
    "print(correlation_df4)"
   ]
  },
  {
   "cell_type": "code",
   "execution_count": 12,
   "id": "da6bd2de",
   "metadata": {},
   "outputs": [],
   "source": [
    "correlations = pd.concat([correlation_df1, correlation_df2, correlation_df3, correlation_df4], axis=1)"
   ]
  },
  {
   "cell_type": "code",
   "execution_count": 17,
   "id": "ed919d56",
   "metadata": {},
   "outputs": [
    {
     "data": {
      "text/plain": [
       "Correlation_Main_00    0.761875\n",
       "P_value_Main_00        0.018756\n",
       "Correlation_Main_25    0.769378\n",
       "P_value_Main_25        0.024414\n",
       "Correlation_Main_50    0.775045\n",
       "P_value_Main_50        0.018958\n",
       "Correlation_Main_75    0.778476\n",
       "P_value_Main_75        0.038520\n",
       "dtype: float64"
      ]
     },
     "execution_count": 17,
     "metadata": {},
     "output_type": "execute_result"
    }
   ],
   "source": [
    "mean_row = correlations.mean()\n",
    "mean_row"
   ]
  },
  {
   "cell_type": "markdown",
   "id": "e09c8050",
   "metadata": {},
   "source": [
    "Conclusions:\n",
    "\n",
    "Changing the temperature doesn't seem to do much for this task. These categories are pretty well defined and easy to pull out so perhaps that's why it's not making much difference. I'll leave it at .25 just because that seems to be a good point where some of the fuzzier categories can do well but not affect the more well-defined ones. For this type of question and categorization, temperature doesn't seem to matter."
   ]
  }
 ],
 "metadata": {
  "kernelspec": {
   "display_name": "“AI”",
   "language": "python",
   "name": "ai"
  },
  "language_info": {
   "codemirror_mode": {
    "name": "ipython",
    "version": 3
   },
   "file_extension": ".py",
   "mimetype": "text/x-python",
   "name": "python",
   "nbconvert_exporter": "python",
   "pygments_lexer": "ipython3",
   "version": "3.8.18"
  }
 },
 "nbformat": 4,
 "nbformat_minor": 5
}
